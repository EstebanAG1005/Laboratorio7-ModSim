{
 "cells": [
  {
   "cell_type": "markdown",
   "metadata": {},
   "source": [
    "### Aplicaciones de Meta-modelado en el deporte:\n",
    "\n",
    "En el fútbol, a menudo se llevan a cabo análisis biomecánicos costosos y complejos para estudiar la técnica de disparo de un jugador. Estos análisis pueden requerir equipos especiales y mucho tiempo para cada evaluación. Sin embargo, para optimizar el entrenamiento de un jugador rápidamente, se podría considerar el uso de un modelo sustituto que prediga la \"calidad\" del disparo basado en ciertas variables, como el ángulo del pie, la velocidad de carrera y el punto de contacto con el balón."
   ]
  },
  {
   "cell_type": "code",
   "execution_count": 2,
   "metadata": {},
   "outputs": [
    {
     "name": "stdout",
     "output_type": "stream",
     "text": [
      "La calidad predicha del disparo para la nueva técnica es: 82.71 ± 0.40\n"
     ]
    }
   ],
   "source": [
    "import numpy as np\n",
    "from sklearn.gaussian_process import GaussianProcessRegressor\n",
    "from sklearn.gaussian_process.kernels import RBF, ConstantKernel as C\n",
    "\n",
    "# Datos de entrenamiento (obtenidos previamente de un análisis biomecánico detallado)\n",
    "# Estos son los resultados hipotéticos para diferentes técnicas de disparo.\n",
    "X_train = np.array([[45, 5, 30], [50, 7, 32], [43, 6, 31]])  # [ángulo del pie, velocidad de carrera (km/h), punto de contacto con el balón (cm desde el centro)]\n",
    "y_train = np.array([80, 85, 82])  # Calidad del disparo (porcentaje)\n",
    "\n",
    "# Definir y entrenar el modelo sustituto\n",
    "kernel = C(1.0, (1e-3, 1e4)) * RBF(1.0, (1e-2, 1e2))\n",
    "gp = GaussianProcessRegressor(kernel=kernel, n_restarts_optimizer=10)\n",
    "gp.fit(X_train, y_train)\n",
    "\n",
    "# Predecir la calidad de una nueva técnica de disparo\n",
    "X_new = np.array([[44, 6.5, 31]])\n",
    "y_pred, sigma = gp.predict(X_new, return_std=True)\n",
    "\n",
    "print(f\"La calidad predicha del disparo para la nueva técnica es: {y_pred[0]:.2f} ± {sigma[0]:.2f}\")"
   ]
  },
  {
   "cell_type": "markdown",
   "metadata": {},
   "source": [
    "### a. ¿Por qué este es un ejemplo de meta-modelado?\n",
    "\n",
    "Este es un ejemplo de meta-modelado porque se crea un modelo simplificado basado en un conjunto limitado de datos del análisis biomecánico original. El modelo sustituto se utiliza para hacer predicciones rápidas sobre la calidad de diferentes técnicas de disparo sin consultar el modelo original.\n",
    "\n",
    "### b. ¿Cuál es el modelo sustitutivo?\n",
    "El modelo sustitutivo es el Gaussian Process Regressor que hemos entrenado para imitar el comportamiento del análisis biomecánico original.\n",
    "\n",
    "### c. Explique adecuadamente la construcción de su modelo y qué aplicaciones puede tener en la vida real.\n",
    "Para construir el modelo sustituto, recopilamos datos de análisis biomecánicos del disparo para diferentes técnicas. Con estos datos, entrenamos un regresor de proceso gaussiano. Este modelo se usa para predecir rápidamente la calidad del disparo de un jugador basado en ciertas variables sin tener que hacer un análisis biomecánico completo. En la vida real, esto puede ser útil para entrenadores y científicos del deporte para optimizar rápidamente la técnica de disparo de un jugador."
   ]
  }
 ],
 "metadata": {
  "kernelspec": {
   "display_name": "Python 3",
   "language": "python",
   "name": "python3"
  },
  "language_info": {
   "codemirror_mode": {
    "name": "ipython",
    "version": 3
   },
   "file_extension": ".py",
   "mimetype": "text/x-python",
   "name": "python",
   "nbconvert_exporter": "python",
   "pygments_lexer": "ipython3",
   "version": "3.10.4"
  },
  "orig_nbformat": 4
 },
 "nbformat": 4,
 "nbformat_minor": 2
}
